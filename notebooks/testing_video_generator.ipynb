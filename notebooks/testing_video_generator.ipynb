{
 "cells": [
  {
   "cell_type": "markdown",
   "metadata": {},
   "source": [
    "This script creates short test videos from ALL complete gameplay videos. It requires a begining and an ending X_screen_total value from the event file.\n",
    "\n",
    "WARNING: all complete gameplay videos must exist. If not, the script will fail."
   ]
  },
  {
   "cell_type": "code",
   "execution_count": null,
   "metadata": {},
   "outputs": [],
   "source": [
    "import os\n",
    "import pandas as pd\n",
    "from moviepy.editor import VideoFileClip\n",
    "\n",
    "# Define base paths\n",
    "base_path = '../data/raw_data/sub-01'\n",
    "video_base_path = '../output/videos/videos_full'\n",
    "output_video_base_path = '../output/videos/videos_cut'\n",
    "\n",
    "# Import the combined CSV file\n",
    "df = pd.read_csv('../data/datasets/combined_events_level-1_clean_outset_vid.csv')\n",
    "\n",
    "# Ensure the output directory exists\n",
    "if not os.path.exists(output_video_base_path):\n",
    "    os.makedirs(output_video_base_path)\n",
    "\n",
    "# Iterate through each unique combination of session, run, and repetition\n",
    "for (subject, session, run, level, repetition) in df[['subject', 'session', 'run', 'level', 'repetition']].drop_duplicates().values:\n",
    "    # Skip if any of the values are missing\n",
    "    if pd.isna(subject) or pd.isna(session) or pd.isna(run) or pd.isna(level) or pd.isna(repetition):\n",
    "        print(f\"Skipping due to missing values: subject={subject}, session={session}, run={run}, level={level}, repetition={repetition}\")\n",
    "        continue\n",
    "    \n",
    "    # Define the video file name and path\n",
    "    video_file_name = f'{subject}_{session}_task-shinobi_{run}_{level}_{repetition}.mp4'\n",
    "    video_file_path = os.path.join(video_base_path, video_file_name)\n",
    "    output_video_file_name = f'{subject}_{session}_task-shinobi_{run}_{level}_{repetition}_cut.mp4'\n",
    "    output_video_file_path = os.path.join(output_video_base_path, output_video_file_name)\n",
    "\n",
    "    # Check if the output video already exists\n",
    "    if os.path.exists(output_video_file_path):\n",
    "        print(f\"Output video {output_video_file_name} already exists. Skipping.\")\n",
    "        continue\n",
    "    \n",
    "    # Load the event data for the current combination\n",
    "    df_filtered = df[(df['subject'] == subject) &\n",
    "                     (df['session'] == session) &\n",
    "                     (df['run'] == run) &\n",
    "                     (df['level'] == level) &\n",
    "                     (df['repetition'] == repetition)]\n",
    "\n",
    "    # Load the video file with moviepy\n",
    "    video = VideoFileClip(video_file_path)\n",
    "\n",
    "    # Define the start and end x_screen_total values\n",
    "    start_x_screen_total = 4550  # <-- Change this value to adjust the START of the video\n",
    "    end_x_screen_total = 5150    # <-- Change this value to adjust the END of the video\n",
    "\n",
    "    # Get start and end onsets from the dataframe\n",
    "    start_onset = float(df_filtered[(df_filtered['X_screen_total'] >= start_x_screen_total)]['onset_vid'].values[0])\n",
    "    end_onset = float(df_filtered[(df_filtered['X_screen_total'] >= end_x_screen_total)]['onset_vid'].values[0])\n",
    "\n",
    "    # Cut the video using the onset times\n",
    "    video_cut = video.subclip(start_onset, end_onset)\n",
    "\n",
    "    # Print video information\n",
    "    fps = video.fps\n",
    "    n_frames = int(video_cut.reader.nframes)\n",
    "    print(f'Video start time (s): {start_onset}')\n",
    "    print(f'Video end time (s): {end_onset}')\n",
    "    print(f'Total time (s): {n_frames / fps:.3f}')\n",
    "    print(f\"Video frames per second (fps): {fps}\")\n",
    "    print(f'Total frame number: {n_frames}')\n",
    "    \n",
    "    # Write the output video file with audio\n",
    "    video_cut.write_videofile(output_video_file_path, codec='libx264', audio_codec='aac', fps=fps)\n",
    "    print('-----------------------------------')"
   ]
  }
 ],
 "metadata": {
  "kernelspec": {
   "display_name": "vllms",
   "language": "python",
   "name": "python3"
  },
  "language_info": {
   "codemirror_mode": {
    "name": "ipython",
    "version": 3
   },
   "file_extension": ".py",
   "mimetype": "text/x-python",
   "name": "python",
   "nbconvert_exporter": "python",
   "pygments_lexer": "ipython3",
   "version": "3.12.3"
  }
 },
 "nbformat": 4,
 "nbformat_minor": 2
}
