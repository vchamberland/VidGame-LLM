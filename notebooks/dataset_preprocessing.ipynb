{
 "cells": [
  {
   "cell_type": "markdown",
   "metadata": {},
   "source": [
    "This script cleans the original event file by keeping only the columns that are needed for the fine-tunig."
   ]
  },
  {
   "cell_type": "code",
   "execution_count": 11,
   "metadata": {},
   "outputs": [],
   "source": [
    "import os\n",
    "import pandas as pd\n",
    "import matplotlib.pyplot as plt\n",
    "from moviepy.editor import VideoFileClip"
   ]
  },
  {
   "cell_type": "markdown",
   "metadata": {},
   "source": [
    "## 1. Creating a master dataset by combining all event files"
   ]
  },
  {
   "cell_type": "code",
   "execution_count": 20,
   "metadata": {},
   "outputs": [],
   "source": [
    "# Define base paths\n",
    "base_path = '../data/raw_data/sub-01'\n",
    "\n",
    "event_files_all = []\n",
    "start_session = 3 #ses-003\n",
    "end_session = 14 #ses-013\n",
    "\n",
    "# Loop through session directories from ses-003 to ses-013\n",
    "for session in range(start_session, end_session):\n",
    "    session_str = f'ses-{session:03d}'\n",
    "    session_path = os.path.join(base_path, session_str)\n",
    "    \n",
    "    # Get all event files for the current session\n",
    "    event_files = [f for f in os.listdir(session_path) if f.endswith('.tsv')]\n",
    "\n",
    "    # add all event files in a new list  \n",
    "    event_files_all.append((session_path, event_files))\n",
    "\n",
    "# Append all event files in a new dataframe\n",
    "df_all = pd.DataFrame()\n",
    "for session_path, event_files in event_files_all:\n",
    "    for event_file in event_files:\n",
    "        df = pd.read_csv(os.path.join(session_path, event_file), sep='\\t')\n",
    "        \n",
    "        # Extract run number from the file name\n",
    "        run_number = event_file.split('_')[3]\n",
    "        \n",
    "        # Add the 'run' column before the 'level' column\n",
    "        level_col_index = df.columns.get_loc('level')\n",
    "        df.insert(level_col_index, 'run', run_number)\n",
    "        \n",
    "        # Concatenate the dataframe\n",
    "        df_all = pd.concat([df_all, df], ignore_index=True)\n",
    "\n",
    "# Save the new dataframe to a CSV file   # <-- WARNING: big file\n",
    "#output_csv_path = '../data/datasets/combined_events.csv'\n",
    "#df_all.to_csv(output_csv_path, index=False)\n"
   ]
  },
  {
   "cell_type": "markdown",
   "metadata": {},
   "source": [
    "## 2. Cleaning the master dataset \n",
    "(e.g., select level 1 only, remove unnecesssary columns, etc.)"
   ]
  },
  {
   "cell_type": "code",
   "execution_count": 21,
   "metadata": {},
   "outputs": [],
   "source": [
    "# create a new dataframe where 'level' column is 'level-01'\n",
    "df_level = df_all[(df_all['level'] == 'level-1')]\n",
    "\n",
    "df_level_clean = df_level[['trial_type', \n",
    "                           'frame_idx',         # Frame number\n",
    "                           'onset',             # Onset time in seconds\n",
    "                           'subject',           # Subject ID\n",
    "                           'session',           # Session number\n",
    "                           'run',               # Run number\n",
    "                           'level',             # Level number\n",
    "                           'repetition',        # Repetition number\n",
    "                           'X_screen_total',\n",
    "                           'X_screen',          # X coordinate of the screen\n",
    "                           'instantScore',      # Instant score ????\n",
    "                           'health',            # Health points\n",
    "                           'status',            # ????\n",
    "                           'lives',             # Number of lives left\n",
    "                           'score',             # Current score\n",
    "                           'shurikens']]\n",
    "                           # <-- More????\n",
    "\n",
    "# Rename 'frame_idx' column to 'frame'\n",
    "df_level_clean = df_level_clean.rename(columns={'frame_idx': 'frame'})\n",
    "\n",
    "# remove rows when 'trial_type' is 'gym-retro_game'\n",
    "df_level_clean = df_level_clean[df_level_clean['trial_type'] != 'gym-retro_game']\n",
    "\n",
    "# List of trial types to process\n",
    "trial_types = ['RIGHT', \n",
    "               'LEFT', \n",
    "               'UP', \n",
    "               'DOWN', \n",
    "               'JUMP', \n",
    "               'HIT', \n",
    "               'Kill', \n",
    "               'HealthGain', \n",
    "               'HealthLoss']  \n",
    "               # <-- Maybe more events in higher levels\n",
    "\n",
    "# Update 'trial_type' values and delete original rows with specific trial types\n",
    "for trial_type in trial_types:\n",
    "    indices_to_delete = []\n",
    "    indices = df_level_clean.index[df_level_clean['trial_type'] == trial_type].tolist()\n",
    "    for idx in indices:\n",
    "        if idx + 1 < len(df_level_clean):\n",
    "            df_level_clean.at[idx + 1, 'trial_type'] = trial_type\n",
    "        indices_to_delete.append(idx)\n",
    "    \n",
    "    # Drop only the original indices\n",
    "    df_level_clean = df_level_clean.drop(indices_to_delete)\n",
    "\n",
    "# reorganize rows by alphabetical order of subject > session > run > level > repetition\n",
    "df_level_clean = df_level_clean.sort_values(by=['subject', 'session', 'run', 'level', 'repetition'])\n",
    "\n",
    "# create 'onset_vid' column after 'onset' column\n",
    "df_level_clean.insert(3, 'onset_vid', 0)\n",
    "\n",
    "# save the new dataframe to a CSV file\n",
    "#output_csv_path = '../data/datasets/combined_events_level-1_clean.csv'\n",
    "#df_level_clean.to_csv(output_csv_path, index=False)"
   ]
  },
  {
   "cell_type": "markdown",
   "metadata": {},
   "source": [
    "## 3. Adding the time onsets from videos"
   ]
  },
  {
   "cell_type": "code",
   "execution_count": 24,
   "metadata": {},
   "outputs": [],
   "source": [
    "video_base_path = '../output/videos/videos_full'\n",
    "output_csv_path = '../data/datasets/combined_events_level-1_clean_outset_vid.csv'\n",
    "\n",
    "# Iterate through each row in the dataframe to update 'onset_vid' column based on the frame number\n",
    "for video_file in os.listdir(video_base_path):\n",
    "    if video_file.endswith('.mp4'):\n",
    "        video = VideoFileClip(os.path.join(video_base_path, video_file))\n",
    "        fps = video.fps\n",
    "\n",
    "        # Extract video information from the file name\n",
    "        subject, session, _, run, level, repetition = video_file.split('_')\n",
    "        repetition = repetition.split('.')[0]\n",
    "        \n",
    "        # Filter the dataframe for rows corresponding to the current video\n",
    "        df_filtered = df_level_clean[\n",
    "            (df_level_clean['subject'] == subject) &\n",
    "            (df_level_clean['session'] == session) &\n",
    "            (df_level_clean['run'] == run) &\n",
    "            (df_level_clean['level'] == level) &\n",
    "            (df_level_clean['repetition'] == repetition)\n",
    "            ]\n",
    "    \n",
    "        # Update the 'onset_vid' column with onsets from the video\n",
    "        df_level_clean.loc[df_filtered.index, 'onset_vid'] = (\n",
    "            df_level_clean.loc[df_filtered.index, 'frame'] / fps\n",
    "        ).round(3)\n",
    "\n",
    "# Save the updated dataframe to a CSV file\n",
    "df_level_clean.to_csv(output_csv_path, index=False)"
   ]
  }
 ],
 "metadata": {
  "kernelspec": {
   "display_name": "base",
   "language": "python",
   "name": "python3"
  },
  "language_info": {
   "codemirror_mode": {
    "name": "ipython",
    "version": 3
   },
   "file_extension": ".py",
   "mimetype": "text/x-python",
   "name": "python",
   "nbconvert_exporter": "python",
   "pygments_lexer": "ipython3",
   "version": "3.12.3"
  }
 },
 "nbformat": 4,
 "nbformat_minor": 2
}
