{
 "cells": [
  {
   "cell_type": "markdown",
   "metadata": {},
   "source": [
    "This script converts all .bk2 Files to training videos (.mp4) using gym-retro."
   ]
  },
  {
   "cell_type": "code",
   "execution_count": null,
   "metadata": {},
   "outputs": [],
   "source": [
    "import os\n",
    "import subprocess\n",
    "import shutil\n",
    "\n",
    "# Create and install dependencies in a virtual environment\n",
    "subprocess.run(['virtualenv', '-p', 'python3.8', 'gym_venv'])\n",
    "subprocess.run(['gym_venv/bin/pip', 'install', 'gym==0.21.0', 'gym-retro==0.8.0', 'ffmpeg'])\n",
    "\n",
    "# Import Shinobi III ROM\n",
    "subprocess.run(['gym_venv/bin/python3', '-m', 'retro.import', '../rom'])\n",
    "\n",
    "# Define base paths\n",
    "base_path = '../data/raw_data/sub-01'\n",
    "video_base_path = '../output/videos/videos_full'\n",
    "\n",
    "# Ensure the output directory exists\n",
    "os.makedirs(video_base_path, exist_ok=True)\n",
    "\n",
    "start_session = 3  # ses-003\n",
    "end_session = 14  # ses-013\n",
    "venv_python_path = 'gym_venv/bin/python3'\n",
    "\n",
    "# Loop through session directories\n",
    "for session in range(start_session, end_session + 1):\n",
    "    session_str = f'ses-{session:03d}'\n",
    "    session_path = os.path.join(base_path, session_str)\n",
    "    \n",
    "    if not os.path.exists(session_path):\n",
    "        print(f\"Session directory {session_path} does not exist. Skipping.\")\n",
    "        continue\n",
    "    \n",
    "    for file in os.listdir(session_path):\n",
    "        if file.endswith('.bk2'):\n",
    "            input_file = os.path.join(session_path, file)\n",
    "            output_bk2_file = os.path.join(video_base_path, file)\n",
    "            output_mp4_file = os.path.join(video_base_path, file.replace('.bk2', '.mp4'))\n",
    "\n",
    "            if os.path.exists(output_mp4_file):\n",
    "                print(f\"{output_mp4_file} already exists. Skipping.\")\n",
    "                continue\n",
    "            \n",
    "            shutil.copy(input_file, output_bk2_file)\n",
    "            print(f\"Copied {input_file} to {output_bk2_file}\")\n",
    "            \n",
    "            command = [venv_python_path, '-m', 'retro.scripts.playback_movie', output_bk2_file, '--lossless', 'mp4']\n",
    "            subprocess.run(command)\n",
    "\n",
    "            if os.path.exists(output_mp4_file):\n",
    "                os.remove(output_bk2_file)\n",
    "                print(f\"Removed {output_bk2_file}\")\n",
    "            else:\n",
    "                print(f\"Expected output file {output_mp4_file} not found. Please check the playback script output.\")\n",
    "\n",
    "# Remove any remaining .bk2 files in the output folder\n",
    "for file in os.listdir(video_base_path):\n",
    "    if file.endswith('.bk2'):\n",
    "        bk2_file_path = os.path.join(video_base_path, file)\n",
    "        os.remove(bk2_file_path)\n",
    "        print(f\"Removed remaining .bk2 file: {bk2_file_path}\")"
   ]
  }
 ],
 "metadata": {
  "kernelspec": {
   "display_name": "vllms",
   "language": "python",
   "name": "python3"
  },
  "language_info": {
   "codemirror_mode": {
    "name": "ipython",
    "version": 3
   },
   "file_extension": ".py",
   "mimetype": "text/x-python",
   "name": "python",
   "nbconvert_exporter": "python",
   "pygments_lexer": "ipython3",
   "version": "3.12.3"
  }
 },
 "nbformat": 4,
 "nbformat_minor": 2
}
