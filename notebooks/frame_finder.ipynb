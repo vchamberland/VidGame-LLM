{
 "cells": [
  {
   "cell_type": "markdown",
   "metadata": {},
   "source": [
    "This script finds specific start and end frames from a generated gameplay video, using time onset or progress as marker."
   ]
  },
  {
   "cell_type": "code",
   "execution_count": null,
   "metadata": {},
   "outputs": [],
   "source": [
    "import os\n",
    "import pandas as pd\n",
    "import cv2\n",
    "import matplotlib.pyplot as plt\n",
    "\n",
    "# Choose tsv file\n",
    "session_path = '../data/raw_data/sub-01/ses-003/'                                \n",
    "tsv_file = 'sub-01_ses-003_task-shinobi_run-01_desc-annotated_events.tsv'           # <-- Choose an event file\n",
    "\n",
    "# Define paths for the current event file and corresponding video file\n",
    "tsv_file_path = os.path.join(session_path, tsv_file)\n",
    "video_file_path = '../output/videos/videos_full/sub-01_ses-003_task-shinobi_run-01_level-1_rep-01.mp4'\n",
    "\n",
    "# Load the event data\n",
    "df = pd.read_csv(tsv_file_path, sep='\\t')\n",
    "\n",
    "# Load the video file\n",
    "cap = cv2.VideoCapture(video_file_path)\n",
    "\n",
    "# Get frames from the video file\n",
    "frames = []\n",
    "while True:\n",
    "    ret, frame = cap.read()\n",
    "    if not ret:\n",
    "        break\n",
    "    frames.append(frame)\n",
    "\n",
    "# Release the video capture object\n",
    "cap.release()\n",
    "\n",
    "# Find frame indices for the start and end onsets\n",
    "frame_start = int(df[(df['X_screen_total'] >= 4550) & (df['level'] == 'level-1')]['frame_idx'].values[0])   # Choose the start frame\n",
    "frame_end = int(df[(df['X_screen_total'] >= 5180) & (df['level'] == 'level-1')]['frame_idx'].values[0])     # Choose the end frame\n",
    "\n",
    "# Plot the start and end frames\n",
    "plt.imshow(cv2.cvtColor(frames[frame_start], cv2.COLOR_BGR2RGB))\n",
    "plt.title('Start Frame')\n",
    "plt.xticks([])\n",
    "plt.yticks([])\n",
    "plt.show()\n",
    "\n",
    "plt.imshow(cv2.cvtColor(frames[frame_end], cv2.COLOR_BGR2RGB))\n",
    "plt.title('End Frame')\n",
    "plt.xticks([])\n",
    "plt.yticks([])\n",
    "plt.show()"
   ]
  }
 ],
 "metadata": {
  "kernelspec": {
   "display_name": "vllms",
   "language": "python",
   "name": "python3"
  },
  "language_info": {
   "codemirror_mode": {
    "name": "ipython",
    "version": 3
   },
   "file_extension": ".py",
   "mimetype": "text/x-python",
   "name": "python",
   "nbconvert_exporter": "python",
   "pygments_lexer": "ipython3",
   "version": "3.12.3"
  }
 },
 "nbformat": 4,
 "nbformat_minor": 2
}
